{
 "cells": [
  {
   "cell_type": "code",
   "execution_count": 54,
   "metadata": {},
   "outputs": [],
   "source": [
    "import hashlib, struct, binascii"
   ]
  },
  {
   "cell_type": "code",
   "execution_count": 128,
   "metadata": {},
   "outputs": [
    {
     "name": "stdout",
     "output_type": "stream",
     "text": [
      "00000000000000015f5300000000000000000000000000000000000000000000\n"
     ]
    }
   ],
   "source": [
    "ver = 2\n",
    "prev_block = \"000000000000000117c80378b8da0e33559b5997f2ad55e2f7d18ec1975b9717\"\n",
    "mrkl_root = \"871714dcbae6c8193a2bb9b2a69fe1c0440399f38d94b3a0f1b447275a29978a\"\n",
    "time_ = 0x53058b35 # 2014-02-20 04:57:25\n",
    "bits = 0x19015f53\n",
    " \n",
    "# https://en.bitcoin.it/wiki/Difficulty\n",
    "exp = bits >> 24\n",
    "mant = bits & 0xffffff\n",
    "target_hexstr = '%064x' % (mant * (1<<(8*(exp - 3))))\n",
    "print(target_hexstr)"
   ]
  },
  {
   "cell_type": "code",
   "execution_count": 149,
   "metadata": {},
   "outputs": [
    {
     "name": "stdout",
     "output_type": "stream",
     "text": [
      "000000000000000117c80378b8da0e33559b5997f2ad55e2f7d18ec1975b9717\n",
      "b'\\x00\\x00\\x00\\x00\\x00\\x00\\x00\\x01\\x17\\xc8\\x03x\\xb8\\xda\\x0e3U\\x9bY\\x97\\xf2\\xadU\\xe2\\xf7\\xd1\\x8e\\xc1\\x97[\\x97\\x17'\n",
      "000000000000000117c80378b8da0e33559b5997f2ad55e2f7d18ec1975b9717\n"
     ]
    }
   ],
   "source": [
    "target_str = bytes.fromhex(target_hexstr)\n",
    "# print(target_str)\n",
    "print(prev_block)\n",
    "# print(prev_block.encode())\n",
    "# print(prev_block.encode().decode())\n",
    "# print(\"HEX:  \",prev_block.encode())\n",
    "print(bytes.fromhex(prev_block))\n",
    "# print(\"UNHEX:\",prev_block.encode().decode())"
   ]
  },
  {
   "cell_type": "code",
   "execution_count": 80,
   "metadata": {},
   "outputs": [
    {
     "name": "stdout",
     "output_type": "stream",
     "text": [
      "b'\\x17\\x97[\\x97\\xc1\\x8e\\xd1\\xf7\\xe2U\\xad\\xf2\\x97Y\\x9bU3\\x0e\\xda\\xb8x\\x03\\xc8\\x17\\x01\\x00\\x00\\x00\\x00\\x00\\x00\\x00'\n"
     ]
    }
   ],
   "source": [
    "print(bytes.fromhex(prev_block)[::-1])"
   ]
  },
  {
   "cell_type": "code",
   "execution_count": 154,
   "metadata": {},
   "outputs": [
    {
     "name": "stdout",
     "output_type": "stream",
     "text": [
      "856192328\n",
      "b'\\x00\\x00\\x00\\x00\\x00\\x00\\x00\\x00\\xe0g\\xa4x\\x02J\\xdd\\xfe\\xcd\\xc96(\\x97\\x8a\\xa5-\\x91\\xfa\\xbdB\\x92\\x98*P'\n",
      "b'\\x00\\x00\\x00\\x00\\x00\\x00\\x00\\x01_S\\x00\\x00\\x00\\x00\\x00\\x00\\x00\\x00\\x00\\x00\\x00\\x00\\x00\\x00\\x00\\x00\\x00\\x00\\x00\\x00\\x00\\x00'\n",
      "b'\\x00\\x00\\x00\\x00\\x00\\x00\\x00\\x00\\xe0g\\xa4x\\x02J\\xdd\\xfe\\xcd\\xc96(\\x97\\x8a\\xa5-\\x91\\xfa\\xbdB\\x92\\x98*P'\n",
      "0000000000000000e067a478024addfecdc93628978aa52d91fabd4292982a50\n",
      "success\n"
     ]
    }
   ],
   "source": [
    "nonce = 0\n",
    "#   L - unsinged Long\n",
    "#   < - little endian\n",
    "# while nonce < 0x100000000:\n",
    "nonce = 856192328\n",
    "header = ( struct.pack(\"<L\", ver) + \n",
    "          bytes.fromhex(prev_block)[::-1] +\n",
    "          bytes.fromhex(mrkl_root)[::-1] +\n",
    "          struct.pack(\"<LLL\", time_, bits, nonce))\n",
    "hash_result = hashlib.sha256(hashlib.sha256(header).digest()).digest()\n",
    "\n",
    "# print(nonce)\n",
    "# print(hash_result[::-1])\n",
    "# print(target_str)\n",
    "\n",
    "if hash_result[::-1] < target_str:\n",
    "    \n",
    "print(bytes.hex(hash_result[::-1]))\n",
    "    print('success')\n",
    "#     break\n",
    "nonce += 1"
   ]
  }
 ],
 "metadata": {
  "kernelspec": {
   "display_name": "Python 3",
   "language": "python",
   "name": "python3"
  },
  "language_info": {
   "codemirror_mode": {
    "name": "ipython",
    "version": 3
   },
   "file_extension": ".py",
   "mimetype": "text/x-python",
   "name": "python",
   "nbconvert_exporter": "python",
   "pygments_lexer": "ipython3",
   "version": "3.7.6"
  }
 },
 "nbformat": 4,
 "nbformat_minor": 4
}
