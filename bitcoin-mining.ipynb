{
 "cells": [
  {
   "cell_type": "code",
   "execution_count": 8,
   "metadata": {},
   "outputs": [],
   "source": [
    "import hashlib, struct, binascii"
   ]
  },
  {
   "cell_type": "code",
   "execution_count": 55,
   "metadata": {},
   "outputs": [],
   "source": [
    "def get_target_str(bits):\n",
    "    # https://en.bitcoin.it/wiki/Difficulty\n",
    "    exp = bits >> 24\n",
    "    mant = bits & 0xffffff\n",
    "    target_hexstr = '%064x' % (mant * (1<<(8*(exp - 3))))\n",
    "    print(\"T:\",target_hexstr)\n",
    "    \n",
    "    target_str = bytes.fromhex(target_hexstr)\n",
    "    return target_str\n",
    "    #   print(target_str)\n"
   ]
  },
  {
   "cell_type": "code",
   "execution_count": 57,
   "metadata": {},
   "outputs": [],
   "source": [
    "def test_nonce(version, prev_block, mrkl_root, \n",
    "               timestamp, bits_difficulty,nonce):\n",
    "    \n",
    "    target_str = get_target_str(bits_difficulty)\n",
    "    header = ( struct.pack(\"<L\", version) + \n",
    "              bytes.fromhex(prev_block)[::-1] +\n",
    "              bytes.fromhex(mrkl_root)[::-1] +\n",
    "              struct.pack(\"<LLL\", timestamp, bits_difficulty, nonce))\n",
    "    hash_result = hashlib.sha256(hashlib.sha256(header).digest()).digest()\n",
    "\n",
    "    return bytes.hex(hash_result[::-1])\n",
    "    nonce += 1"
   ]
  },
  {
   "cell_type": "code",
   "execution_count": 56,
   "metadata": {},
   "outputs": [],
   "source": [
    "def find_input_nonce(version, prev_block, mrkl_root, timestamp, bits_difficulty):\n",
    "    \n",
    "    target_str = get_target_str(bits_difficulty)\n",
    "    nonce = 0\n",
    "    nonce = 856192328\n",
    "    #   L - unsinged Long\n",
    "    #   < - little endian\n",
    "    # Nonce Values\n",
    "    # print(0x100000000) # 4294967296\n",
    "    # print(0xB2D05E00)  # 3000000000\n",
    "    # print(0xB8C63F00)  # 3100000000 \n",
    "    while nonce < 0x100000000:\n",
    "        header = ( struct.pack(\"<L\", version) + \n",
    "                  bytes.fromhex(prev_block)[::-1] +\n",
    "                  bytes.fromhex(mrkl_root)[::-1] +\n",
    "                  struct.pack(\"<LLL\", timestamp, bits_difficulty, nonce))\n",
    "        hash_result = hashlib.sha256(hashlib.sha256(header).digest()).digest()\n",
    "\n",
    "        # print(nonce)\n",
    "        # print(hash_result[::-1])\n",
    "        # print(target_str)\n",
    "\n",
    "        if hash_result[::-1] < target_str:\n",
    "            print(\"Nonce value:\\n\", nonce)\n",
    "            print(\"Hash value:\\n\",bytes.hex(hash_result[::-1]))\n",
    "            print('success')\n",
    "            break\n",
    "        nonce += 1"
   ]
  },
  {
   "cell_type": "code",
   "execution_count": 58,
   "metadata": {},
   "outputs": [
    {
     "name": "stdout",
     "output_type": "stream",
     "text": [
      "T: 0000000000000000001101190000000000000000000000000000000000000000\n",
      "H: 0000000000000000000d493c3c1b91c8059c6b0838e7e68fbcf8f8382606b82c\n",
      "R: 0000000000000000000d493c3c1b91c8059c6b0838e7e68fbcf8f8382606b82c\n"
     ]
    }
   ],
   "source": [
    "# TEST CASE 1 - block height = 286819\n",
    "\n",
    "version = 0x3fff0000\n",
    "prev_block = \"0000000000000000000140ac4688aea45aacbe7caf6aaca46f16acd93e1064c3\"\n",
    "merkle_root = \"422458fced12693312058f6ee4ada19f6df8b29d8cac425c12f4722e0dc4aafd\"\n",
    "timestamp = 0x5E664C76\n",
    "bits_diff = 0x17110119\n",
    "nonce1 = 538463288 #(0x20184C38)\n",
    "block_hash = \"0000000000000000000d493c3c1b91c8059c6b0838e7e68fbcf8f8382606b82c\"\n",
    "calc_block_hash = test_nonce(version,prev_block,merkle_root,timestamp,bits_diff,nonce1)\n",
    "print(\"H:\",block_hash)\n",
    "print(\"R:\",calc_block_hash)\n",
    "#T- target hex string\n",
    "#H- Re"
   ]
  },
  {
   "cell_type": "code",
   "execution_count": 38,
   "metadata": {},
   "outputs": [
    {
     "name": "stdout",
     "output_type": "stream",
     "text": [
      "Target hex val:\n",
      " 00000000000000015f5300000000000000000000000000000000000000000000\n",
      "H: 0000000000000000e067a478024addfecdc93628978aa52d91fabd4292982a50\n",
      "R: 0000000000000000e067a478024addfecdc93628978aa52d91fabd4292982a50\n"
     ]
    }
   ],
   "source": [
    "# TEST CASE 2 - block height = 620954\n",
    "\n",
    "version = 0x00000002\n",
    "prev_block = \"000000000000000117c80378b8da0e33559b5997f2ad55e2f7d18ec1975b9717\"\n",
    "merkle_root = \"871714dcbae6c8193a2bb9b2a69fe1c0440399f38d94b3a0f1b447275a29978a\"\n",
    "timestamp = 0x53058b35 \n",
    "bits_diff = 0x19015f53\n",
    "nonce1 = 856192328\n",
    "block_hash = \"0000000000000000e067a478024addfecdc93628978aa52d91fabd4292982a50\"\n",
    "calc_block_hash = test_nonce(version,prev_block,merkle_root,timestamp,bits_diff,nonce1)\n",
    "print(\"H:\",block_hash)\n",
    "print(\"R:\",calc_block_hash)"
   ]
  },
  {
   "cell_type": "code",
   "execution_count": null,
   "metadata": {},
   "outputs": [],
   "source": []
  }
 ],
 "metadata": {
  "kernelspec": {
   "display_name": "Python 3",
   "language": "python",
   "name": "python3"
  },
  "language_info": {
   "codemirror_mode": {
    "name": "ipython",
    "version": 3
   },
   "file_extension": ".py",
   "mimetype": "text/x-python",
   "name": "python",
   "nbconvert_exporter": "python",
   "pygments_lexer": "ipython3",
   "version": "3.7.6"
  }
 },
 "nbformat": 4,
 "nbformat_minor": 4
}
