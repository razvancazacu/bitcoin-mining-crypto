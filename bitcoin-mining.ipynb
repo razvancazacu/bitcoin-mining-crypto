{
 "cells": [
  {
   "cell_type": "code",
   "execution_count": 1,
   "metadata": {},
   "outputs": [],
   "source": [
    "import hashlib, struct"
   ]
  },
  {
   "cell_type": "code",
   "execution_count": null,
   "metadata": {},
   "outputs": [],
   "source": [
    "ver = 2\n",
    "prev_block = \"000000000000000117c80378b8da0e33559b5997f2ad55e2f7d18ec1975b9717\"\n",
    "mrkl_root = \"871714dcbae6c8193a2bb9b2a69fe1c0440399f38d94b3a0f1b447275a29978a\"\n",
    "time_ = 0x53058b35 # 2014-02-20 04:57:25\n",
    "bits = 0x19015f53\n",
    " \n",
    "# https://en.bitcoin.it/wiki/Difficulty\n",
    "exp = bits >> 24\n",
    "mant = bits & 0xffffff\n",
    "target_hexstr = '%064x' % (mant * (1<<(8*(exp - 3))))\n",
    "target_str = target_hexstr.decode('hex')\n",
    " \n",
    "nonce = 0\n",
    "while nonce < 0x100000000:\n",
    "    header = ( struct.pack(\"<L\", ver) + prev_block.decode('hex')[::-1] +\n",
    "          mrkl_root.decode('hex')[::-1] + struct.pack(\"<LLL\", time_, bits, nonce))\n",
    "    hash = hashlib.sha256(hashlib.sha256(header).digest()).digest()\n",
    "    print nonce, hash[::-1].encode('hex')\n",
    "    if hash[::-1] < target_str:\n",
    "        print 'success'\n",
    "        break\n",
    "    nonce += 1"
   ]
  }
 ],
 "metadata": {
  "kernelspec": {
   "display_name": "Python 3",
   "language": "python",
   "name": "python3"
  },
  "language_info": {
   "codemirror_mode": {
    "name": "ipython",
    "version": 3
   },
   "file_extension": ".py",
   "mimetype": "text/x-python",
   "name": "python",
   "nbconvert_exporter": "python",
   "pygments_lexer": "ipython3",
   "version": "3.7.6"
  }
 },
 "nbformat": 4,
 "nbformat_minor": 4
}
